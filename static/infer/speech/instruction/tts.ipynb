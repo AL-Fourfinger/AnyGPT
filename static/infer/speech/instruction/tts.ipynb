{
 "cells": [
  {
   "cell_type": "code",
   "execution_count": 5,
   "metadata": {},
   "outputs": [
    {
     "ename": "RuntimeError",
     "evalue": "Exception with error code: \n[CALL STACK BEGIN]\n\n/mnt/petrelfs/zhanjun.p/miniconda3/envs/MLLM_2/lib/python3.9/site-packages/azure/cognitiveservices/speech/libMicrosoft.CognitiveServices.Speech.core.so(+0x1ded31) [0x7f336cad3d31]\n/mnt/petrelfs/zhanjun.p/miniconda3/envs/MLLM_2/lib/python3.9/site-packages/azure/cognitiveservices/speech/libMicrosoft.CognitiveServices.Speech.core.so(+0x207b73) [0x7f336cafcb73]\n/lib64/libpthread.so.0(pthread_once+0x50) [0x7f3388753e40]\n/mnt/petrelfs/zhanjun.p/miniconda3/envs/MLLM_2/lib/python3.9/site-packages/azure/cognitiveservices/speech/libMicrosoft.CognitiveServices.Speech.core.so(+0x208ca4) [0x7f336cafdca4]\n/mnt/petrelfs/zhanjun.p/miniconda3/envs/MLLM_2/lib/python3.9/site-packages/azure/cognitiveservices/speech/libMicrosoft.CognitiveServices.Speech.core.so(+0x1b9cf1) [0x7f336caaecf1]\n/mnt/petrelfs/zhanjun.p/miniconda3/envs/MLLM_2/lib/python3.9/site-packages/azure/cognitiveservices/speech/libMicrosoft.CognitiveServices.Speech.core.so(+0x1b95a7) [0x7f336caae5a7]\n/mnt/petrelfs/zhanjun.p/miniconda3/envs/MLLM_2/lib/python3.9/site-packages/azure/cognitiveservices/speech/libMicrosoft.CognitiveServices.Speech.core.so(+0x1e5cd3) [0x7f336cadacd3]\n/mnt/petrelfs/zhanjun.p/miniconda3/envs/MLLM_2/lib/python3.9/site-packages/azure/cognitiveservices/speech/libMicrosoft.CognitiveServices.Speech.core.so(+0x1cac6c) [0x7f336cabfc6c]\n/mnt/petrelfs/zhanjun.p/miniconda3/envs/MLLM_2/lib/python3.9/site-packages/azure/cognitiveservices/speech/libMicrosoft.CognitiveServices.Speech.core.so(+0x1dba84) [0x7f336cad0a84]\n/mnt/petrelfs/zhanjun.p/miniconda3/envs/MLLM_2/lib/python3.9/site-packages/azure/cognitiveservices/speech/libMicrosoft.CognitiveServices.Speech.core.so(+0xf28a5) [0x7f336c9e78a5]\n/mnt/petrelfs/zhanjun.p/miniconda3/envs/MLLM_2/lib/python3.9/site-packages/azure/cognitiveservices/speech/libMicrosoft.CognitiveServices.Speech.core.so(+0x1e5cd3) [0x7f336cadacd3]\n/mnt/petrelfs/zhanjun.p/miniconda3/envs/MLLM_2/lib/python3.9/site-packages/azure/cognitiveservices/speech/libMicrosoft.CognitiveServices.Speech.core.so(+0x1d2a95) [0x7f336cac7a95]\n/mnt/petrelfs/zhanjun.p/miniconda3/envs/MLLM_2/lib/python3.9/site-packages/azure/cognitiveservices/speech/libMicrosoft.CognitiveServices.Speech.core.so(+0x216210) [0x7f336cb0b210]\n/mnt/petrelfs/zhanjun.p/miniconda3/envs/MLLM_2/lib/python3.9/site-packages/azure/cognitiveservices/speech/libMicrosoft.CognitiveServices.Speech.core.so(synthesizer_create_speech_synthesizer_from_config+0xf3) [0x7f336c9b2331]\n/mnt/petrelfs/zhanjun.p/miniconda3/envs/MLLM_2/lib/python3.9/lib-dynload/../../libffi.so.8(+0xa052) [0x7f3380cf4052]\n/mnt/petrelfs/zhanjun.p/miniconda3/envs/MLLM_2/lib/python3.9/lib-dynload/../../libffi.so.8(+0x8925) [0x7f3380cf2925]\n/mnt/petrelfs/zhanjun.p/miniconda3/envs/MLLM_2/lib/python3.9/lib-dynload/../../libffi.so.8(ffi_call+0xde) [0x7f3380cf306e]\n[CALL STACK END]\n\nRuntime error: Failed to initialize platform (azure-c-shared). Error: 2176",
     "output_type": "error",
     "traceback": [
      "\u001b[0;31m---------------------------------------------------------------------------\u001b[0m",
      "\u001b[0;31mRuntimeError\u001b[0m                              Traceback (most recent call last)",
      "Cell \u001b[0;32mIn[5], line 12\u001b[0m\n\u001b[1;32m      9\u001b[0m \u001b[38;5;66;03m# The language of the voice that speaks.\u001b[39;00m\n\u001b[1;32m     10\u001b[0m speech_config\u001b[38;5;241m.\u001b[39mspeech_synthesis_voice_name\u001b[38;5;241m=\u001b[39m\u001b[38;5;124m'\u001b[39m\u001b[38;5;124men-US-JennyNeural\u001b[39m\u001b[38;5;124m'\u001b[39m\n\u001b[0;32m---> 12\u001b[0m speech_synthesizer \u001b[38;5;241m=\u001b[39m \u001b[43mspeechsdk\u001b[49m\u001b[38;5;241;43m.\u001b[39;49m\u001b[43mSpeechSynthesizer\u001b[49m\u001b[43m(\u001b[49m\u001b[43mspeech_config\u001b[49m\u001b[38;5;241;43m=\u001b[39;49m\u001b[43mspeech_config\u001b[49m\u001b[43m,\u001b[49m\u001b[43m \u001b[49m\u001b[43maudio_config\u001b[49m\u001b[38;5;241;43m=\u001b[39;49m\u001b[43maudio_config\u001b[49m\u001b[43m)\u001b[49m\n\u001b[1;32m     14\u001b[0m \u001b[38;5;66;03m# Get text from the console and synthesize to the default speaker.\u001b[39;00m\n\u001b[1;32m     15\u001b[0m \u001b[38;5;28mprint\u001b[39m(\u001b[38;5;124m\"\u001b[39m\u001b[38;5;124mEnter some text that you want to speak >\u001b[39m\u001b[38;5;124m\"\u001b[39m)\n",
      "File \u001b[0;32m~/miniconda3/envs/MLLM_2/lib/python3.9/site-packages/azure/cognitiveservices/speech/speech.py:2149\u001b[0m, in \u001b[0;36mSpeechSynthesizer.__init__\u001b[0;34m(self, speech_config, audio_config, auto_detect_source_language_config)\u001b[0m\n\u001b[1;32m   2144\u001b[0m     _call_hr_fn(fn\u001b[38;5;241m=\u001b[39m_sdk_lib\u001b[38;5;241m.\u001b[39msynthesizer_create_speech_synthesizer_from_auto_detect_source_lang_config, \u001b[38;5;241m*\u001b[39m[\n\u001b[1;32m   2145\u001b[0m         ctypes\u001b[38;5;241m.\u001b[39mbyref(handle),\n\u001b[1;32m   2146\u001b[0m         speech_config\u001b[38;5;241m.\u001b[39m_handle, auto_detect_source_language_config\u001b[38;5;241m.\u001b[39m_handle, audio_config_handle\n\u001b[1;32m   2147\u001b[0m     ])\n\u001b[1;32m   2148\u001b[0m \u001b[38;5;28;01melse\u001b[39;00m:\n\u001b[0;32m-> 2149\u001b[0m     \u001b[43m_call_hr_fn\u001b[49m\u001b[43m(\u001b[49m\u001b[43mfn\u001b[49m\u001b[38;5;241;43m=\u001b[39;49m\u001b[43m_sdk_lib\u001b[49m\u001b[38;5;241;43m.\u001b[39;49m\u001b[43msynthesizer_create_speech_synthesizer_from_config\u001b[49m\u001b[43m,\u001b[49m\u001b[43m \u001b[49m\u001b[38;5;241;43m*\u001b[39;49m\u001b[43m[\u001b[49m\n\u001b[1;32m   2150\u001b[0m \u001b[43m        \u001b[49m\u001b[43mctypes\u001b[49m\u001b[38;5;241;43m.\u001b[39;49m\u001b[43mbyref\u001b[49m\u001b[43m(\u001b[49m\u001b[43mhandle\u001b[49m\u001b[43m)\u001b[49m\u001b[43m,\u001b[49m\n\u001b[1;32m   2151\u001b[0m \u001b[43m        \u001b[49m\u001b[43mspeech_config\u001b[49m\u001b[38;5;241;43m.\u001b[39;49m\u001b[43m_handle\u001b[49m\u001b[43m,\u001b[49m\u001b[43m \u001b[49m\u001b[43maudio_config_handle\u001b[49m\n\u001b[1;32m   2152\u001b[0m \u001b[43m    \u001b[49m\u001b[43m]\u001b[49m\u001b[43m)\u001b[49m\n\u001b[1;32m   2153\u001b[0m \u001b[38;5;28mself\u001b[39m\u001b[38;5;241m.\u001b[39m__handle \u001b[38;5;241m=\u001b[39m _Handle(handle, _sdk_lib\u001b[38;5;241m.\u001b[39msynthesizer_handle_is_valid, _sdk_lib\u001b[38;5;241m.\u001b[39msynthesizer_handle_release)\n\u001b[1;32m   2154\u001b[0m prop_handle \u001b[38;5;241m=\u001b[39m _spx_handle(\u001b[38;5;241m0\u001b[39m)\n",
      "File \u001b[0;32m~/miniconda3/envs/MLLM_2/lib/python3.9/site-packages/azure/cognitiveservices/speech/interop.py:62\u001b[0m, in \u001b[0;36m_call_hr_fn\u001b[0;34m(fn, *args)\u001b[0m\n\u001b[1;32m     60\u001b[0m fn\u001b[38;5;241m.\u001b[39mrestype \u001b[38;5;241m=\u001b[39m _spx_hr\n\u001b[1;32m     61\u001b[0m hr \u001b[38;5;241m=\u001b[39m fn(\u001b[38;5;241m*\u001b[39margs) \u001b[38;5;28;01mif\u001b[39;00m \u001b[38;5;28mlen\u001b[39m(args) \u001b[38;5;241m>\u001b[39m \u001b[38;5;241m0\u001b[39m \u001b[38;5;28;01melse\u001b[39;00m fn()\n\u001b[0;32m---> 62\u001b[0m \u001b[43m_raise_if_failed\u001b[49m\u001b[43m(\u001b[49m\u001b[43mhr\u001b[49m\u001b[43m)\u001b[49m\n",
      "File \u001b[0;32m~/miniconda3/envs/MLLM_2/lib/python3.9/site-packages/azure/cognitiveservices/speech/interop.py:55\u001b[0m, in \u001b[0;36m_raise_if_failed\u001b[0;34m(hr)\u001b[0m\n\u001b[1;32m     53\u001b[0m \u001b[38;5;28;01mdef\u001b[39;00m \u001b[38;5;21m_raise_if_failed\u001b[39m(hr: _spx_hr):\n\u001b[1;32m     54\u001b[0m     \u001b[38;5;28;01mif\u001b[39;00m hr \u001b[38;5;241m!=\u001b[39m \u001b[38;5;241m0\u001b[39m:\n\u001b[0;32m---> 55\u001b[0m         \u001b[43m__try_get_error\u001b[49m\u001b[43m(\u001b[49m\u001b[43m_spx_handle\u001b[49m\u001b[43m(\u001b[49m\u001b[43mhr\u001b[49m\u001b[43m)\u001b[49m\u001b[43m)\u001b[49m\n\u001b[1;32m     56\u001b[0m         \u001b[38;5;28;01mraise\u001b[39;00m \u001b[38;5;167;01mRuntimeError\u001b[39;00m(hr)\n",
      "File \u001b[0;32m~/miniconda3/envs/MLLM_2/lib/python3.9/site-packages/azure/cognitiveservices/speech/interop.py:50\u001b[0m, in \u001b[0;36m__try_get_error\u001b[0;34m(error_handle)\u001b[0m\n\u001b[1;32m     45\u001b[0m message \u001b[38;5;241m=\u001b[39m \u001b[38;5;124m\"\u001b[39m\u001b[38;5;124mException with error code: \u001b[39m\u001b[38;5;132;01m%s\u001b[39;00m\u001b[38;5;132;01m%s\u001b[39;00m\u001b[38;5;124m\"\u001b[39m \u001b[38;5;241m%\u001b[39m (\n\u001b[1;32m     46\u001b[0m     callstack \u001b[38;5;28;01mif\u001b[39;00m callstack \u001b[38;5;129;01mis\u001b[39;00m \u001b[38;5;129;01mnot\u001b[39;00m \u001b[38;5;28;01mNone\u001b[39;00m \u001b[38;5;28;01melse\u001b[39;00m \u001b[38;5;124m\"\u001b[39m\u001b[38;5;124m\"\u001b[39m,\n\u001b[1;32m     47\u001b[0m     what \u001b[38;5;28;01mif\u001b[39;00m what \u001b[38;5;129;01mis\u001b[39;00m \u001b[38;5;129;01mnot\u001b[39;00m \u001b[38;5;28;01mNone\u001b[39;00m \u001b[38;5;28;01melse\u001b[39;00m code\n\u001b[1;32m     48\u001b[0m )\n\u001b[1;32m     49\u001b[0m _sdk_lib\u001b[38;5;241m.\u001b[39merror_release(error_handle)\n\u001b[0;32m---> 50\u001b[0m \u001b[38;5;28;01mraise\u001b[39;00m \u001b[38;5;167;01mRuntimeError\u001b[39;00m(message)\n",
      "\u001b[0;31mRuntimeError\u001b[0m: Exception with error code: \n[CALL STACK BEGIN]\n\n/mnt/petrelfs/zhanjun.p/miniconda3/envs/MLLM_2/lib/python3.9/site-packages/azure/cognitiveservices/speech/libMicrosoft.CognitiveServices.Speech.core.so(+0x1ded31) [0x7f336cad3d31]\n/mnt/petrelfs/zhanjun.p/miniconda3/envs/MLLM_2/lib/python3.9/site-packages/azure/cognitiveservices/speech/libMicrosoft.CognitiveServices.Speech.core.so(+0x207b73) [0x7f336cafcb73]\n/lib64/libpthread.so.0(pthread_once+0x50) [0x7f3388753e40]\n/mnt/petrelfs/zhanjun.p/miniconda3/envs/MLLM_2/lib/python3.9/site-packages/azure/cognitiveservices/speech/libMicrosoft.CognitiveServices.Speech.core.so(+0x208ca4) [0x7f336cafdca4]\n/mnt/petrelfs/zhanjun.p/miniconda3/envs/MLLM_2/lib/python3.9/site-packages/azure/cognitiveservices/speech/libMicrosoft.CognitiveServices.Speech.core.so(+0x1b9cf1) [0x7f336caaecf1]\n/mnt/petrelfs/zhanjun.p/miniconda3/envs/MLLM_2/lib/python3.9/site-packages/azure/cognitiveservices/speech/libMicrosoft.CognitiveServices.Speech.core.so(+0x1b95a7) [0x7f336caae5a7]\n/mnt/petrelfs/zhanjun.p/miniconda3/envs/MLLM_2/lib/python3.9/site-packages/azure/cognitiveservices/speech/libMicrosoft.CognitiveServices.Speech.core.so(+0x1e5cd3) [0x7f336cadacd3]\n/mnt/petrelfs/zhanjun.p/miniconda3/envs/MLLM_2/lib/python3.9/site-packages/azure/cognitiveservices/speech/libMicrosoft.CognitiveServices.Speech.core.so(+0x1cac6c) [0x7f336cabfc6c]\n/mnt/petrelfs/zhanjun.p/miniconda3/envs/MLLM_2/lib/python3.9/site-packages/azure/cognitiveservices/speech/libMicrosoft.CognitiveServices.Speech.core.so(+0x1dba84) [0x7f336cad0a84]\n/mnt/petrelfs/zhanjun.p/miniconda3/envs/MLLM_2/lib/python3.9/site-packages/azure/cognitiveservices/speech/libMicrosoft.CognitiveServices.Speech.core.so(+0xf28a5) [0x7f336c9e78a5]\n/mnt/petrelfs/zhanjun.p/miniconda3/envs/MLLM_2/lib/python3.9/site-packages/azure/cognitiveservices/speech/libMicrosoft.CognitiveServices.Speech.core.so(+0x1e5cd3) [0x7f336cadacd3]\n/mnt/petrelfs/zhanjun.p/miniconda3/envs/MLLM_2/lib/python3.9/site-packages/azure/cognitiveservices/speech/libMicrosoft.CognitiveServices.Speech.core.so(+0x1d2a95) [0x7f336cac7a95]\n/mnt/petrelfs/zhanjun.p/miniconda3/envs/MLLM_2/lib/python3.9/site-packages/azure/cognitiveservices/speech/libMicrosoft.CognitiveServices.Speech.core.so(+0x216210) [0x7f336cb0b210]\n/mnt/petrelfs/zhanjun.p/miniconda3/envs/MLLM_2/lib/python3.9/site-packages/azure/cognitiveservices/speech/libMicrosoft.CognitiveServices.Speech.core.so(synthesizer_create_speech_synthesizer_from_config+0xf3) [0x7f336c9b2331]\n/mnt/petrelfs/zhanjun.p/miniconda3/envs/MLLM_2/lib/python3.9/lib-dynload/../../libffi.so.8(+0xa052) [0x7f3380cf4052]\n/mnt/petrelfs/zhanjun.p/miniconda3/envs/MLLM_2/lib/python3.9/lib-dynload/../../libffi.so.8(+0x8925) [0x7f3380cf2925]\n/mnt/petrelfs/zhanjun.p/miniconda3/envs/MLLM_2/lib/python3.9/lib-dynload/../../libffi.so.8(ffi_call+0xde) [0x7f3380cf306e]\n[CALL STACK END]\n\nRuntime error: Failed to initialize platform (azure-c-shared). Error: 2176"
     ]
    }
   ],
   "source": [
    "import os\n",
    "import azure.cognitiveservices.speech as speechsdk\n",
    "\n",
    "# This example requires environment variables named \"SPEECH_KEY\" and \"SPEECH_REGION\"\n",
    "speech_config = speechsdk.SpeechConfig(subscription='e44aa9caeebd4a2ea72d9d7f8c8f7e27', \n",
    "                                       region='canadacentral')\n",
    "audio_config = speechsdk.audio.AudioOutputConfig(use_default_speaker=True)\n",
    "\n",
    "# The language of the voice that speaks.\n",
    "speech_config.speech_synthesis_voice_name='en-US-JennyNeural'\n",
    "\n",
    "speech_synthesizer = speechsdk.SpeechSynthesizer(speech_config=speech_config, audio_config=audio_config)\n",
    "\n",
    "# Get text from the console and synthesize to the default speaker.\n",
    "print(\"Enter some text that you want to speak >\")\n",
    "text = input()\n",
    "\n",
    "speech_synthesis_result = speech_synthesizer.speak_text_async(text).get()\n",
    "\n",
    "if speech_synthesis_result.reason == speechsdk.ResultReason.SynthesizingAudioCompleted:\n",
    "    print(\"Speech synthesized for text [{}]\".format(text))\n",
    "elif speech_synthesis_result.reason == speechsdk.ResultReason.Canceled:\n",
    "    cancellation_details = speech_synthesis_result.cancellation_details\n",
    "    print(\"Speech synthesis canceled: {}\".format(cancellation_details.reason))\n",
    "    if cancellation_details.reason == speechsdk.CancellationReason.Error:\n",
    "        if cancellation_details.error_details:\n",
    "            print(\"Error details: {}\".format(cancellation_details.error_details))\n",
    "            print(\"Did you set the speech resource key and region values?\")"
   ]
  },
  {
   "cell_type": "code",
   "execution_count": null,
   "metadata": {},
   "outputs": [],
   "source": []
  }
 ],
 "metadata": {
  "kernelspec": {
   "display_name": "MLLM_2",
   "language": "python",
   "name": "python3"
  },
  "language_info": {
   "codemirror_mode": {
    "name": "ipython",
    "version": 3
   },
   "file_extension": ".py",
   "mimetype": "text/x-python",
   "name": "python",
   "nbconvert_exporter": "python",
   "pygments_lexer": "ipython3",
   "version": "3.9.18"
  }
 },
 "nbformat": 4,
 "nbformat_minor": 2
}
