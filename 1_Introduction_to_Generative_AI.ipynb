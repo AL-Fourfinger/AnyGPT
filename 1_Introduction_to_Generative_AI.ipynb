{
  "cells": [
    {
      "cell_type": "markdown",
      "metadata": {
        "id": "view-in-github",
        "colab_type": "text"
      },
      "source": [
        "<a href=\"https://colab.research.google.com/github/AL-Fourfinger/AnyGPT/blob/main/1_Introduction_to_Generative_AI.ipynb\" target=\"_parent\"><img src=\"https://colab.research.google.com/assets/colab-badge.svg\" alt=\"Open In Colab\"/></a>"
      ]
    },
    {
      "cell_type": "markdown",
      "id": "96472106",
      "metadata": {
        "id": "96472106"
      },
      "source": [
        "# Introduction to Google Colab\n",
        "\n",
        "Welcome to this tutorial on Google Colab! In this notebook, we'll explore the basics of using Google Colab, a powerful cloud-based platform for writing and executing Python code, particularly useful for machine learning and data science projects.\n",
        "\n",
        "## What is Google Colab?\n",
        "\n",
        "Google Colab, short for Colaboratory, is a free, cloud-based Jupyter notebook environment that requires no setup and runs entirely in the cloud. It allows you to write and execute Python code through your browser, and is especially well-suited to machine learning, data analysis and education.\n",
        "\n",
        "Key features of Google Colab include:\n",
        "- Free access to GPUs and TPUs\n",
        "- Easy sharing and collaboration\n",
        "- Integration with Google Drive\n",
        "- Pre-installed popular libraries\n",
        "\n",
        "Let's dive in and explore how to use Google Colab!"
      ]
    },
    {
      "cell_type": "markdown",
      "id": "8432b748",
      "metadata": {
        "id": "8432b748"
      },
      "source": [
        "## Accessing Google Colab\n",
        "\n",
        "To access Google Colab:\n",
        "\n",
        "1. Go to [colab.research.google.com](https://colab.research.google.com)\n",
        "2. Sign in with your Google account\n",
        "3. Click on 'New Notebook' to create a new Colab notebook\n",
        "\n",
        "You can also open existing notebooks from your Google Drive or GitHub repositories."
      ]
    },
    {
      "cell_type": "markdown",
      "id": "01ac8acc",
      "metadata": {
        "id": "01ac8acc"
      },
      "source": [
        "## Basic Interface Overview\n",
        "\n",
        "The Google Colab interface is similar to Jupyter notebooks:\n",
        "\n",
        "- The main area is where you write and execute code or markdown\n",
        "- The left sidebar contains a table of contents and file browser\n",
        "- The top menu bar provides various options for file management, runtime settings, and more\n",
        "\n",
        "Colab notebooks consist of two types of cells: code cells and text cells (markdown)."
      ]
    },
    {
      "cell_type": "markdown",
      "id": "3eb2170f",
      "metadata": {
        "id": "3eb2170f"
      },
      "source": [
        "## Creating and Running Code Cells\n",
        "\n",
        "To create a new code cell, click the '+ Code' button in the toolbar or use the keyboard shortcut 'Ctrl+M B'.\n",
        "\n",
        "Let's try running a simple Python code:"
      ]
    },
    {
      "cell_type": "code",
      "execution_count": 1,
      "id": "4d05817d",
      "metadata": {
        "colab": {
          "base_uri": "https://localhost:8080/"
        },
        "id": "4d05817d",
        "outputId": "a0e8d151-5ec9-4a60-82d3-1ab09560c63e"
      },
      "outputs": [
        {
          "output_type": "stream",
          "name": "stdout",
          "text": [
            "Hello, Google Colab!\n",
            "5 * 7 = 35\n"
          ]
        }
      ],
      "source": [
        "print(\"Hello, Google Colab!\")\n",
        "\n",
        "# Simple calculation\n",
        "result = 5 * 7\n",
        "print(f\"5 * 7 = {result}\")"
      ]
    },
    {
      "cell_type": "code",
      "source": [
        "# prompt: frage nach dem Alter, lass das eingeben und schreibe dann Peter ist Alter alt\n",
        "\n",
        "alter = input(\"Wie alt ist Peter? \")\n",
        "print(\"Peter ist\", alter, \"Jahre alt.\")\n"
      ],
      "metadata": {
        "colab": {
          "base_uri": "https://localhost:8080/"
        },
        "id": "8N3hxiDG1eZI",
        "outputId": "20f418ff-8495-49fc-fe3c-068a330fb291"
      },
      "id": "8N3hxiDG1eZI",
      "execution_count": 4,
      "outputs": [
        {
          "output_type": "stream",
          "name": "stdout",
          "text": [
            "Wie alt ist Peter? 60\n",
            "Peter ist 60 Jahre alt.\n"
          ]
        }
      ]
    },
    {
      "cell_type": "code",
      "source": [
        "print (\"mal sehen ob das klappt\")"
      ],
      "metadata": {
        "colab": {
          "base_uri": "https://localhost:8080/"
        },
        "id": "GWnpgmK_1k9V",
        "outputId": "26cce4bf-d89b-43de-b9e7-5e907b9c585d"
      },
      "id": "GWnpgmK_1k9V",
      "execution_count": 3,
      "outputs": [
        {
          "output_type": "stream",
          "name": "stdout",
          "text": [
            "mal sehen ob das klappt\n"
          ]
        }
      ]
    },
    {
      "cell_type": "markdown",
      "id": "d198e2d8",
      "metadata": {
        "id": "d198e2d8"
      },
      "source": [
        "To run a code cell, you can click the play button on the left side of the cell or use the keyboard shortcut 'Shift+Enter'."
      ]
    },
    {
      "cell_type": "markdown",
      "id": "28b424c7",
      "metadata": {
        "id": "28b424c7"
      },
      "source": [
        "## Working with Markdown Cells\n",
        "\n",
        "Markdown cells are used for adding formatted text, images, and equations to your notebook. To create a new markdown cell, click the '+ Text' button in the toolbar or use the keyboard shortcut 'Ctrl+M M'.\n",
        "\n",
        "Here are some examples of markdown formatting:\n",
        "\n",
        "# Heading 1\n",
        "## Heading 2\n",
        "### Heading 3\n",
        "\n",
        "- Bullet point 1\n",
        "- Bullet point 2\n",
        "\n",
        "1. Numbered list item 1\n",
        "2. Numbered list item 2\n",
        "\n",
        "*Italic text*\n",
        "**Bold text**\n",
        "\n",
        "[Link to Google](https://www.google.com)\n",
        "\n",
        "Inline equation: $E = mc^2$\n",
        "\n",
        "Block equation:\n",
        "$$\n",
        "\\frac{d}{dx}e^x = e^x\n",
        "$$\n",
        "\n",
        "To edit a markdown cell, double-click on it or use the keyboard shortcut 'Enter' when the cell is selected."
      ]
    },
    {
      "cell_type": "markdown",
      "id": "ef12b59e",
      "metadata": {
        "id": "ef12b59e"
      },
      "source": [
        "## Using GPU Acceleration\n",
        "\n",
        "One of the great features of Google Colab is free access to GPU acceleration. To use a GPU:\n",
        "\n",
        "1. Go to 'Runtime' in the top menu\n",
        "2. Select 'Change runtime type'\n",
        "3. Choose 'GPU' from the Hardware accelerator dropdown\n",
        "4. Click 'Save'\n",
        "\n",
        "Let's verify if we have GPU access:"
      ]
    },
    {
      "cell_type": "code",
      "execution_count": 3,
      "id": "fef1df1e",
      "metadata": {
        "colab": {
          "base_uri": "https://localhost:8080/"
        },
        "id": "fef1df1e",
        "outputId": "cf3370b0-9eb5-4823-b420-625b293ff65a"
      },
      "outputs": [
        {
          "output_type": "stream",
          "name": "stdout",
          "text": [
            "GPU Available:  True\n",
            "/device:GPU:0\n"
          ]
        }
      ],
      "source": [
        "import tensorflow as tf\n",
        "print(\"GPU Available: \", tf.test.is_gpu_available())\n",
        "\n",
        "# If GPU is available, this will print out GPU device info\n",
        "if tf.test.is_gpu_available():\n",
        "    print(tf.test.gpu_device_name())"
      ]
    },
    {
      "cell_type": "markdown",
      "id": "40eff7e9",
      "metadata": {
        "id": "40eff7e9"
      },
      "source": [
        "## Importing and Using Libraries\n",
        "\n",
        "Google Colab comes with many pre-installed libraries, especially those commonly used in data science and machine learning. You can import and use these libraries just like in a local Python environment.\n",
        "\n",
        "Let's import some common libraries and use them:"
      ]
    },
    {
      "cell_type": "code",
      "execution_count": 4,
      "id": "7c728316",
      "metadata": {
        "colab": {
          "base_uri": "https://localhost:8080/",
          "height": 668
        },
        "id": "7c728316",
        "outputId": "359cdf30-662a-4933-965c-2b428edaa1f6"
      },
      "outputs": [
        {
          "output_type": "display_data",
          "data": {
            "text/plain": [
              "<Figure size 1000x600 with 1 Axes>"
            ],
            "image/png": "[encoded data removed]"
          },
          "metadata": {}
        },
        {
          "output_type": "stream",
          "name": "stdout",
          "text": [
            "     values\n",
            "0 -1.834555\n",
            "1 -0.180390\n",
            "2  0.262029\n",
            "3 -0.316467\n",
            "4  0.330324\n"
          ]
        }
      ],
      "source": [
        "import numpy as np\n",
        "import pandas as pd\n",
        "import matplotlib.pyplot as plt\n",
        "\n",
        "# Create some sample data\n",
        "data = np.random.randn(1000)\n",
        "\n",
        "# Create a DataFrame\n",
        "df = pd.DataFrame(data, columns=['values'])\n",
        "\n",
        "# Plot a histogram\n",
        "plt.figure(figsize=(10, 6))\n",
        "plt.hist(df['values'], bins=30)\n",
        "plt.title('Histogram of Random Data')\n",
        "plt.xlabel('Value')\n",
        "plt.ylabel('Frequency')\n",
        "plt.show()\n",
        "\n",
        "# Display first few rows of the DataFrame\n",
        "print(df.head())"
      ]
    },
    {
      "cell_type": "markdown",
      "id": "bd909aac",
      "metadata": {
        "id": "bd909aac"
      },
      "source": [
        "## Mounting Google Drive\n",
        "\n",
        "Google Colab can easily integrate with Google Drive, allowing you to save and load files directly from your Drive. Here's how to mount your Google Drive:"
      ]
    },
    {
      "cell_type": "code",
      "execution_count": 5,
      "id": "33e4d38e",
      "metadata": {
        "colab": {
          "base_uri": "https://localhost:8080/"
        },
        "id": "33e4d38e",
        "outputId": "e1391f32-95c1-4b5b-d49e-dc191ae5ce86"
      },
      "outputs": [
        {
          "output_type": "stream",
          "name": "stdout",
          "text": [
            "Mounted at /content/drive\n"
          ]
        }
      ],
      "source": [
        "from google.colab import drive\n",
        "drive.mount('/content/drive')\n",
        "\n",
        "# After running this cell, follow the authorization link and enter the code\n",
        "\n",
        "# Once mounted, you can access your Drive files like this:\n",
        "# !ls /content/drive/My\\ Drive/"
      ]
    },
    {
      "cell_type": "markdown",
      "id": "1a69b8af",
      "metadata": {
        "id": "1a69b8af"
      },
      "source": [
        "## Saving and Sharing Notebooks\n",
        "\n",
        "Google Colab automatically saves your work to Google Drive. To manually save:\n",
        "1. Go to 'File' in the top menu\n",
        "2. Click 'Save' or 'Save a copy in Drive'\n",
        "\n",
        "To share your notebook:\n",
        "1. Click the 'Share' button in the top-right corner\n",
        "2. Adjust sharing settings as needed (view-only or editable)\n",
        "3. Copy the sharing link or add collaborators directly\n",
        "\n",
        "You can also download your notebook in various formats, including .ipynb and .py, from the 'File' menu.\n",
        "\n",
        "That concludes our introduction to Google Colab! You're now ready to explore more advanced features and start working on your own projects. Happy coding!"
      ]
    },
    {
      "cell_type": "markdown",
      "id": "3Zh_s1FCzJVk",
      "metadata": {
        "id": "3Zh_s1FCzJVk"
      },
      "source": [
        "# Module 1: Introduction to Generative AI (GenAI)\n",
        "\n",
        "Welcome to the first module of the Generative AI Teaching kit! </br>\n",
        "This material was originally developed by [Prof. Sam Raymond](https://engineering.dartmouth.edu/community/faculty/sam-raymond) at the [Thayer School of Engineering, Dartmouth College](https://engineering.dartmouth.edu/) with support from [NVIDIA](https://www.nvidia.com/) and is designed to provide a resource to help you on your journey to master GenAI in this fast-paced, ever-evolving landscape.\n",
        "\n",
        "Throughout this course you will be using notebooks like these to explore some of the different topics and tools that are covered in the lectures. You will also be given some homework notebooks where you will be taked to solve problems that require you to apply what will be covered in the lectures and these tutorial notebooks.\n",
        "\n",
        "In this notebook, the code will be minimal, and instead the concepts and different aspects of GenAI will be shown to give you a feel for the kinds of tasks and problems to which GenAI can be applied.\n",
        "\n",
        "\n",
        "---\n",
        "\n"
      ]
    },
    {
      "cell_type": "markdown",
      "id": "9ea0f91b-7f63-4a4f-ab75-22b3f93417de",
      "metadata": {
        "id": "9ea0f91b-7f63-4a4f-ab75-22b3f93417de"
      },
      "source": [
        "# Part 1 - HuggingFace 🤗: The Hub of Open Source GenAI\n",
        "\n",
        "We start our journey into GenAI by introducing, arguably, the most important platform in the entire field. HuggingFace is a company devoted to providing access, support, and software relating to all things GenAI. Akin to GitHub, HuggingFace hosts any and all open sourced models, making them free to download and interact with. They also develop and maintain, among others, the `transformers` Python library, which is by far the most popular and well developed library for interacting with, and traning large language models."
      ]
    },
    {
      "cell_type": "code",
      "execution_count": null,
      "id": "a75f9bc2-9cca-4fe5-a37a-037bc3620343",
      "metadata": {
        "id": "a75f9bc2-9cca-4fe5-a37a-037bc3620343"
      },
      "outputs": [],
      "source": [
        "# !pip install -Uqqq torch transformers diffusers pydub openai-whisper accelerate sentencepiece numba"
      ]
    },
    {
      "cell_type": "code",
      "execution_count": null,
      "id": "5bf4f56f-f6b0-4e13-9172-c700f2f338a2",
      "metadata": {
        "id": "5bf4f56f-f6b0-4e13-9172-c700f2f338a2"
      },
      "outputs": [],
      "source": [
        "!pip install -q transformers diffusers torch pydub TTS openai-whisper accelerate numba"
      ]
    },
    {
      "cell_type": "code",
      "execution_count": null,
      "id": "eeb89a19-f4f5-43c8-9e25-3da3c6f12a59",
      "metadata": {
        "id": "eeb89a19-f4f5-43c8-9e25-3da3c6f12a59"
      },
      "outputs": [],
      "source": [
        "USE_CUDA = True"
      ]
    },
    {
      "cell_type": "code",
      "execution_count": null,
      "id": "d07a00c0-52c1-496c-88a5-4e19fb405f88",
      "metadata": {
        "id": "d07a00c0-52c1-496c-88a5-4e19fb405f88"
      },
      "outputs": [],
      "source": [
        "import torch\n",
        "\n",
        "def check_cuda():\n",
        "    # Check if CUDA is available\n",
        "    if USE_CUDA and torch.cuda.is_available():\n",
        "        print(\"CUDA is available.\")\n",
        "\n",
        "        # Get the CUDA device name\n",
        "        cuda_device = torch.cuda.get_device_name(0)\n",
        "        print(f\"CUDA Device: {cuda_device}\")\n",
        "\n",
        "        # Perform a simple tensor operation on the GPU\n",
        "        x = torch.tensor([1.0, 2.0, 3.0], device='cuda')\n",
        "        y = torch.tensor([4.0, 5.0, 6.0], device='cuda')\n",
        "        z = x + y\n",
        "        print(f\"Tensor operation result: {z}\")\n",
        "\n",
        "    else:\n",
        "        print(\"CUDA is not available.\")\n",
        "\n",
        "# Run the CUDA check\n",
        "check_cuda()\n"
      ]
    },
    {
      "cell_type": "code",
      "execution_count": null,
      "id": "c60e3a13-6ab8-431c-b471-3e06ccdbdd54",
      "metadata": {
        "id": "c60e3a13-6ab8-431c-b471-3e06ccdbdd54"
      },
      "outputs": [],
      "source": [
        "# Import necessary libraries\n",
        "from transformers import pipeline, GPT2LMHeadModel, GPT2Tokenizer\n",
        "from transformers import LlamaTokenizer, LlamaForCausalLM\n",
        "from diffusers import StableDiffusionPipeline\n",
        "from PIL import Image\n",
        "from IPython.display import Audio, display\n",
        "import torch\n",
        "import numpy as np\n",
        "from TTS.api import TTS\n",
        "# from transformers import VitsModel, AutoTokenizer\n",
        "import whisper\n",
        "# import scipy\n",
        "from numba import cuda\n",
        "device = cuda.get_current_device()\n",
        "# Text Generation using GPT-2\n",
        "def generate_text(prompt):\n",
        "    model_name = \"gpt2-medium\"\n",
        "    device = \"cuda\" if USE_CUDA and torch.cuda.is_available() else \"cpu\"\n",
        "    model = GPT2LMHeadModel.from_pretrained(model_name).to(device)\n",
        "    tokenizer = GPT2Tokenizer.from_pretrained(model_name)\n",
        "    inputs = tokenizer(prompt, return_tensors=\"pt\").to(device)\n",
        "    outputs = model.generate(inputs[\"input_ids\"], max_length=50, num_return_sequences=1)\n",
        "    return tokenizer.decode(outputs[0], skip_special_tokens=True)\n",
        "\n",
        "# Text Translation using MarianMT\n",
        "def translate_text(text, src_lang=\"en\", tgt_lang=\"fr\"):\n",
        "    translation_pipeline = pipeline(\"translation\", model=f\"Helsinki-NLP/opus-mt-{src_lang}-{tgt_lang}\")\n",
        "    return translation_pipeline(text)[0]['translation_text']\n",
        "\n",
        "\n",
        "def translate_en_hi(prompt):\n",
        "    device = \"cuda\" if USE_CUDA and torch.cuda.is_available() else \"cpu\"\n",
        "    tokenizer = LlamaTokenizer.from_pretrained('sarvamai/OpenHathi-7B-Hi-v0.1-Base')\n",
        "    model = LlamaForCausalLM.from_pretrained('sarvamai/OpenHathi-7B-Hi-v0.1-Base', torch_dtype=torch.bfloat16).to(device)\n",
        "    inputs = tokenizer(prompt, return_tensors=\"pt\").to(device)\n",
        "    # Generate\n",
        "    generate_ids = model.generate(inputs.input_ids, max_length=30)\n",
        "    return tokenizer.batch_decode(generate_ids, skip_special_tokens=True, clean_up_tokenization_spaces=False)[0]\n",
        "\n",
        "\n",
        "# Image Generation using Stable Diffusion\n",
        "def generate_image(prompt, output_path=\"generated_image.png\"):\n",
        "    model_id = \"runwayml/stable-diffusion-v1-5\"\n",
        "    try:\n",
        "        pipe = StableDiffusionPipeline.from_pretrained(\n",
        "            model_id,\n",
        "            torch_dtype=torch.float16,\n",
        "            revision=\"fp16\",\n",
        "            low_cpu_mem_usage=True\n",
        "        )\n",
        "        pipe = pipe.to(\"cuda\" if torch.cuda.is_available() else \"cpu\")\n",
        "        image = pipe(prompt, num_inference_steps=500, guidance_scale=7.5).images[0]\n",
        "\n",
        "        # Save the image\n",
        "        image.save(output_path)\n",
        "        print(f\"Image saved to {output_path}\")\n",
        "\n",
        "        # Show the image\n",
        "        display(image)\n",
        "    except Exception as e:\n",
        "        print(f\"An error occurred: {e}\")\n",
        "\n",
        "# Audio Generation using TTS\n",
        "def generate_audio(text):\n",
        "    tts = TTS(model_name=\"tts_models/en/ljspeech/tacotron2-DDC\", progress_bar=True, gpu=torch.cuda.is_available())\n",
        "    tts.tts_to_file(text=text, file_path=\"output.wav\")\n",
        "    display(Audio(\"output.wav\"))\n",
        "\n",
        "# def generate_audio(text):\n",
        "#     model = VitsModel.from_pretrained(\"facebook/mms-tts-eng\")\n",
        "#     tokenizer = AutoTokenizer.from_pretrained(\"facebook/mms-tts-eng\")\n",
        "#     inputs = tokenizer(text, return_tensors=\"pt\")\n",
        "#     with torch.no_grad():\n",
        "#         output = model(**inputs).waveform\n",
        "#         scipy.io.wavfile.write(\"output.wav\", rate=model.config.sampling_rate, data=output.float().numpy())\n",
        "#         Audio(output.numpy(), rate=model.config.sampling_rate)\n",
        "\n",
        "# Speech-to-Text using Whisper\n",
        "def transcribe_audio(file_path):\n",
        "    model = whisper.load_model(\"base\")\n",
        "    result = model.transcribe(file_path)\n",
        "    return result[\"text\"]"
      ]
    },
    {
      "cell_type": "code",
      "execution_count": null,
      "id": "89db7846-ef3e-4de6-9cea-4ef17d6625b8",
      "metadata": {
        "id": "89db7846-ef3e-4de6-9cea-4ef17d6625b8"
      },
      "outputs": [],
      "source": [
        "# Text Generation Example\n",
        "text_prompt = \"Once upon a time in a land far, far away\"\n",
        "generated_text = generate_text(text_prompt)\n",
        "print(\"Generated Text:\")\n",
        "print(generated_text)"
      ]
    },
    {
      "cell_type": "code",
      "execution_count": null,
      "id": "83pwUCzq3gDf",
      "metadata": {
        "id": "83pwUCzq3gDf"
      },
      "outputs": [],
      "source": [
        "device.reset()"
      ]
    },
    {
      "cell_type": "code",
      "execution_count": null,
      "id": "a1300278-e934-400a-8547-363e13b84b61",
      "metadata": {
        "id": "a1300278-e934-400a-8547-363e13b84b61"
      },
      "outputs": [],
      "source": [
        "# Text Translation Example\n",
        "text_to_translate = \"Hello, how are you?\"\n",
        "translated_text = translate_text(text_to_translate)\n",
        "print(\"\\nTranslated Text (English to French):\")\n",
        "print(translated_text)"
      ]
    },
    {
      "cell_type": "code",
      "execution_count": null,
      "id": "WAqwXzt33mc0",
      "metadata": {
        "id": "WAqwXzt33mc0"
      },
      "outputs": [],
      "source": [
        "device.reset()"
      ]
    },
    {
      "cell_type": "code",
      "execution_count": null,
      "id": "6dc6af2b-73cb-4491-9898-ce4b0d6d951f",
      "metadata": {
        "id": "6dc6af2b-73cb-4491-9898-ce4b0d6d951f"
      },
      "outputs": [],
      "source": [
        "text_to_translate = \"hello, how are you?\"\n",
        "translated_text = translate_en_hi(text_to_translate)\n",
        "print(\"\\nTranslated Text:\\n\",translated_text)"
      ]
    },
    {
      "cell_type": "code",
      "execution_count": null,
      "id": "9a33a958-271b-4c3c-8efd-9ef829ce76d5",
      "metadata": {
        "id": "9a33a958-271b-4c3c-8efd-9ef829ce76d5"
      },
      "outputs": [],
      "source": [
        "# Image Generation Example\n",
        "image_prompt = \"A futuristic server farm with NVIDIA GPUs in outer space\"\n",
        "print(\"\\nGenerating Image...\")\n",
        "generate_image(image_prompt)"
      ]
    },
    {
      "cell_type": "code",
      "execution_count": null,
      "id": "EdCrJ0W-3n3K",
      "metadata": {
        "id": "EdCrJ0W-3n3K"
      },
      "outputs": [],
      "source": [
        "device.reset()"
      ]
    },
    {
      "cell_type": "code",
      "execution_count": null,
      "id": "77462f1f-6c6e-476e-9539-3afb6d1010c1",
      "metadata": {
        "id": "77462f1f-6c6e-476e-9539-3afb6d1010c1"
      },
      "outputs": [],
      "source": [
        "# Audio Generation Example\n",
        "audio_text = \"This is a sample text to speech conversion using TTS.\"\n",
        "print(\"\\nGenerating Audio...\")\n",
        "generate_audio(audio_text)"
      ]
    },
    {
      "cell_type": "code",
      "execution_count": null,
      "id": "TjajTGfO3ow2",
      "metadata": {
        "id": "TjajTGfO3ow2"
      },
      "outputs": [],
      "source": [
        "device.reset()"
      ]
    },
    {
      "cell_type": "code",
      "execution_count": null,
      "id": "742f2d78-1cf0-4caa-a948-9b971a74bc76",
      "metadata": {
        "id": "742f2d78-1cf0-4caa-a948-9b971a74bc76"
      },
      "outputs": [],
      "source": [
        "# Speech-to-Text Example\n",
        "audio_file_path = 'output.wav'\n",
        "print(\"\\nTranscribing Audio...\")\n",
        "transcribed_text = transcribe_audio(audio_file_path)\n",
        "print(\"Transcribed Text:\")\n",
        "print(transcribed_text)"
      ]
    },
    {
      "cell_type": "code",
      "execution_count": null,
      "id": "c3ylYKPE4MOJ",
      "metadata": {
        "id": "c3ylYKPE4MOJ"
      },
      "outputs": [],
      "source": [
        "device.reset()"
      ]
    }
  ],
  "metadata": {
    "colab": {
      "provenance": [],
      "gpuType": "T4",
      "include_colab_link": true
    },
    "kernelspec": {
      "display_name": "Python 3",
      "name": "python3"
    },
    "language_info": {
      "codemirror_mode": {
        "name": "ipython",
        "version": 3
      },
      "file_extension": ".py",
      "mimetype": "text/x-python",
      "name": "python",
      "nbconvert_exporter": "python",
      "pygments_lexer": "ipython3",
      "version": "3.11.9"
    },
    "accelerator": "GPU"
  },
  "nbformat": 4,
  "nbformat_minor": 5
}